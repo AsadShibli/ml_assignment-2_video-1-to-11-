{
  "nbformat": 4,
  "nbformat_minor": 0,
  "metadata": {
    "colab": {
      "provenance": [],
      "authorship_tag": "ABX9TyPHZkfOZa+ain7m1rXKGG+G",
      "include_colab_link": true
    },
    "kernelspec": {
      "name": "python3",
      "display_name": "Python 3"
    },
    "language_info": {
      "name": "python"
    },
    "accelerator": "GPU",
    "gpuClass": "standard"
  },
  "cells": [
    {
      "cell_type": "markdown",
      "metadata": {
        "id": "view-in-github",
        "colab_type": "text"
      },
      "source": [
        "<a href=\"https://colab.research.google.com/github/AsadShibli/ml_assignment-2_video-1-to-11-/blob/main/video10.ipynb\" target=\"_parent\"><img src=\"https://colab.research.google.com/assets/colab-badge.svg\" alt=\"Open In Colab\"/></a>"
      ]
    },
    {
      "cell_type": "markdown",
      "source": [
        "While Loop"
      ],
      "metadata": {
        "id": "KRS_tMo7k5lE"
      }
    },
    {
      "cell_type": "code",
      "execution_count": 5,
      "metadata": {
        "id": "Qyt9l7N0spNT",
        "colab": {
          "base_uri": "https://localhost:8080/"
        },
        "outputId": "ed882c72-0889-4502-b47c-80aebbc54e3a"
      },
      "outputs": [
        {
          "output_type": "stream",
          "name": "stdout",
          "text": [
            "hello\n",
            "hello\n",
            "hello\n",
            "hello\n",
            "hello\n",
            "hello\n",
            "hello\n",
            "hello\n",
            "hello\n",
            "hello\n",
            "hello\n"
          ]
        }
      ],
      "source": [
        "i = 0 \n",
        "while i<=10:\n",
        " print('hello')\n",
        " i+=1"
      ]
    },
    {
      "cell_type": "code",
      "source": [
        "num = [1,4,2,5,3]\n",
        "\n",
        "i = 0\n",
        "total = 0\n",
        "while i<len(num):\n",
        " total = total + i\n",
        " i+=1\n",
        "\n",
        "print(total)"
      ],
      "metadata": {
        "colab": {
          "base_uri": "https://localhost:8080/"
        },
        "id": "cZg7doc1lIEx",
        "outputId": "46483697-9818-4498-fa73-bf8aa77ea5b9"
      },
      "execution_count": 7,
      "outputs": [
        {
          "output_type": "stream",
          "name": "stdout",
          "text": [
            "10\n"
          ]
        }
      ]
    }
  ]
}