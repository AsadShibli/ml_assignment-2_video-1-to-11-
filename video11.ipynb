{
  "nbformat": 4,
  "nbformat_minor": 0,
  "metadata": {
    "colab": {
      "provenance": [],
      "authorship_tag": "ABX9TyOOyK7gphmpfwsJhGOnmcH/",
      "include_colab_link": true
    },
    "kernelspec": {
      "name": "python3",
      "display_name": "Python 3"
    },
    "language_info": {
      "name": "python"
    }
  },
  "cells": [
    {
      "cell_type": "markdown",
      "metadata": {
        "id": "view-in-github",
        "colab_type": "text"
      },
      "source": [
        "<a href=\"https://colab.research.google.com/github/AsadShibli/ml_assignment-2_video-1-to-11-/blob/main/video11.ipynb\" target=\"_parent\"><img src=\"https://colab.research.google.com/assets/colab-badge.svg\" alt=\"Open In Colab\"/></a>"
      ]
    },
    {
      "cell_type": "markdown",
      "source": [
        "Nested Loop"
      ],
      "metadata": {
        "id": "KRS_tMo7k5lE"
      }
    },
    {
      "cell_type": "code",
      "source": [
        "num = [2,4,1,4]\n",
        "\n",
        "for element in num:\n",
        "   i = 0\n",
        "   while i<len(num):\n",
        "      print(num[i], end='')\n",
        "      i+=1\n",
        "   print('\\n')"
      ],
      "metadata": {
        "id": "LlAGMo35mPcB",
        "outputId": "bf8df4af-4f3b-4a50-d806-50a560d9efe9",
        "colab": {
          "base_uri": "https://localhost:8080/"
        }
      },
      "execution_count": 5,
      "outputs": [
        {
          "output_type": "stream",
          "name": "stdout",
          "text": [
            "2414\n",
            "\n",
            "2414\n",
            "\n",
            "2414\n",
            "\n",
            "2414\n",
            "\n"
          ]
        }
      ]
    },
    {
      "cell_type": "code",
      "source": [
        "'''printing following patterns\n",
        "\n",
        "*\n",
        "**\n",
        "***\n",
        "****\n",
        "\n",
        "'''\n",
        "\n",
        "for row in range(0,4):\n",
        " for col in range(0,row+1):\n",
        "  print('*',end='')\n",
        " print()"
      ],
      "metadata": {
        "id": "gzazvqcPuUZt",
        "outputId": "d04a3b6e-7848-4bc1-9d67-3a5c66beaae3",
        "colab": {
          "base_uri": "https://localhost:8080/"
        }
      },
      "execution_count": 14,
      "outputs": [
        {
          "output_type": "stream",
          "name": "stdout",
          "text": [
            "*\n",
            "**\n",
            "***\n",
            "****\n"
          ]
        }
      ]
    }
  ]
}