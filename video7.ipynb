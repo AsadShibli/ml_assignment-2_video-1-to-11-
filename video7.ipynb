{
  "nbformat": 4,
  "nbformat_minor": 0,
  "metadata": {
    "colab": {
      "provenance": [],
      "authorship_tag": "ABX9TyNMH6dWzG80uLPtgc3taNPv",
      "include_colab_link": true
    },
    "kernelspec": {
      "name": "python3",
      "display_name": "Python 3"
    },
    "language_info": {
      "name": "python"
    }
  },
  "cells": [
    {
      "cell_type": "markdown",
      "metadata": {
        "id": "view-in-github",
        "colab_type": "text"
      },
      "source": [
        "<a href=\"https://colab.research.google.com/github/AsadShibli/ml_assignment-2_video-1-to-11-/blob/main/video7.ipynb\" target=\"_parent\"><img src=\"https://colab.research.google.com/assets/colab-badge.svg\" alt=\"Open In Colab\"/></a>"
      ]
    },
    {
      "cell_type": "markdown",
      "source": [
        "If else statement"
      ],
      "metadata": {
        "id": "QAe3bf6Rlkb-"
      }
    },
    {
      "cell_type": "code",
      "execution_count": 3,
      "metadata": {
        "colab": {
          "base_uri": "https://localhost:8080/"
        },
        "id": "u-4gP5xvlhbV",
        "outputId": "6d842197-26d5-4432-fa36-7ca876f402ef"
      },
      "outputs": [
        {
          "output_type": "stream",
          "name": "stdout",
          "text": [
            "x is greater than y\n"
          ]
        }
      ],
      "source": [
        "x = 10 \n",
        "y = 5\n",
        "\n",
        "if(x>y):\n",
        "    print(\"x is greater than y\")\n",
        "\n",
        "else:\n",
        "    print(\"x is lower than y\")"
      ]
    },
    {
      "cell_type": "code",
      "source": [
        "x = 4 \n",
        "y = 5 \n",
        "z = 9\n",
        "\n",
        "if((x>y) and (x>z)):\n",
        "    print('x is the greatest number')\n",
        "elif(y>z):\n",
        "    print('y is the greatest number')\n",
        "else:\n",
        "\n",
        "    print('z is the greatest number')"
      ],
      "metadata": {
        "colab": {
          "base_uri": "https://localhost:8080/"
        },
        "id": "tZOCiYFOl5Us",
        "outputId": "c287d92e-31a6-4903-9554-f421ae0c5006"
      },
      "execution_count": 4,
      "outputs": [
        {
          "output_type": "stream",
          "name": "stdout",
          "text": [
            "z is the greatest number\n"
          ]
        }
      ]
    },
    {
      "cell_type": "code",
      "source": [
        "product_price = 10\n",
        "\n",
        "quantity = int(input('how many you want?\\n'))\n",
        "\n",
        "total_price = product_price*quantity\n",
        "\n",
        "given_price = int(input('pay your cash\\n'))\n",
        "\n",
        "return_price = abs(given_price-total_price)\n",
        "\n",
        "if(given_price>total_price):\n",
        " print('here is your return:{} taka'.format(return_price))\n",
        "\n",
        "elif(total_price>given_price):\n",
        " print('you have to pay {} taka more'.format(return_price))\n",
        "\n",
        "else:\n",
        " print('here is your product')"
      ],
      "metadata": {
        "colab": {
          "base_uri": "https://localhost:8080/"
        },
        "id": "JSnL7hkymdEL",
        "outputId": "880d21ca-fa43-4d43-90d9-856c260353b2"
      },
      "execution_count": 12,
      "outputs": [
        {
          "output_type": "stream",
          "name": "stdout",
          "text": [
            "how many you want?\n",
            "2\n",
            "pay your cash\n",
            "20\n",
            "here is your product\n"
          ]
        }
      ]
    },
    {
      "cell_type": "code",
      "source": [
        "num = float(input())\n",
        "if(num%2)==0:\n",
        "  print('num is divisible by 2')\n",
        "else:\n",
        "  print('num is not divisible by 2')"
      ],
      "metadata": {
        "colab": {
          "base_uri": "https://localhost:8080/"
        },
        "id": "G9BByKgOo9QN",
        "outputId": "1975d5b7-4aa8-40d4-d22a-3e7303a0fd52"
      },
      "execution_count": 18,
      "outputs": [
        {
          "output_type": "stream",
          "name": "stdout",
          "text": [
            "20\n",
            "num is divisible by 2\n"
          ]
        }
      ]
    },
    {
      "cell_type": "code",
      "source": [
        "from IPython.display import Image\n",
        "Image('/content/images (2).jpeg')"
      ],
      "metadata": {
        "colab": {
          "base_uri": "https://localhost:8080/",
          "height": 695
        },
        "id": "md4lFX96pcSo",
        "outputId": "e9fe0469-80ed-4080-e2e3-4914cb72276c"
      },
      "execution_count": 21,
      "outputs": [
        {
          "output_type": "execute_result",
          "data": {
            "image/jpeg": "[encoded data removed]",
            "text/plain": [
              "<IPython.core.display.Image object>"
            ]
          },
          "metadata": {},
          "execution_count": 21
        }
      ]
    }
  ]
}