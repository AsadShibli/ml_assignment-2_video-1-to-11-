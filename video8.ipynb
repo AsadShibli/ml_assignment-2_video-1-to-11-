{
  "nbformat": 4,
  "nbformat_minor": 0,
  "metadata": {
    "colab": {
      "provenance": [],
      "authorship_tag": "ABX9TyMR6+9eq0letK/0Lkqum/dI",
      "include_colab_link": true
    },
    "kernelspec": {
      "name": "python3",
      "display_name": "Python 3"
    },
    "language_info": {
      "name": "python"
    }
  },
  "cells": [
    {
      "cell_type": "markdown",
      "metadata": {
        "id": "view-in-github",
        "colab_type": "text"
      },
      "source": [
        "<a href=\"https://colab.research.google.com/github/AsadShibli/ml_assignment-2_video-1-to-11-/blob/main/video8.ipynb\" target=\"_parent\"><img src=\"https://colab.research.google.com/assets/colab-badge.svg\" alt=\"Open In Colab\"/></a>"
      ]
    },
    {
      "cell_type": "markdown",
      "source": [
        "Assignment"
      ],
      "metadata": {
        "id": "mSok8TKUPQnz"
      }
    },
    {
      "cell_type": "code",
      "execution_count": 3,
      "metadata": {
        "colab": {
          "base_uri": "https://localhost:8080/"
        },
        "id": "JtKWuqN8PLdy",
        "outputId": "c8081193-680f-48c9-9335-e09706144f18"
      },
      "outputs": [
        {
          "output_type": "stream",
          "name": "stdout",
          "text": [
            "Enter length : 20\n",
            "Enter breadth : 10\n",
            "It is not Square\n"
          ]
        }
      ],
      "source": [
        "\n",
        "#01. Take values of length and breadth of a rectangle from user and check if it is square or not.\n",
        "\n",
        "length = float(input('Enter length : '))\n",
        "\n",
        "#Input the breadth from user\n",
        "breadth = float(input('Enter breadth : '))\n",
        "\n",
        "\n",
        "\n",
        "if length == breadth :\n",
        "    print('It is Square')\n",
        "    \n",
        "else:\n",
        "    print('It is not Square')"
      ]
    },
    {
      "cell_type": "code",
      "source": [
        "#02. Take three int values from user and print greatest among them.\n",
        "\n",
        "x = int(input('first number : '))\n",
        "y = int(input('second number : '))\n",
        "z = int(input('third number : '))\n",
        "\n",
        "if((x>y) and (x>z)):\n",
        "    print('x is the greatest number')\n",
        "elif(y>z):\n",
        "    print('y is the greatest number')\n",
        "else:\n",
        "\n",
        "    print('z is the greatest number')"
      ],
      "metadata": {
        "colab": {
          "base_uri": "https://localhost:8080/"
        },
        "id": "xKQU6VT4SvRV",
        "outputId": "6d8e3e87-9b0a-4eed-94bc-719d69dc26ce"
      },
      "execution_count": 16,
      "outputs": [
        {
          "output_type": "stream",
          "name": "stdout",
          "text": [
            "first number : 20\n",
            "second number : 5\n",
            "third number : 1\n",
            "x is the greatest number\n"
          ]
        }
      ]
    },
    {
      "cell_type": "code",
      "source": [
        "#03. A student will not be allowed to sit in exam if his/her attendence is less than 75%.\n",
        "\n",
        "classes = int(input('Number of classes held : '))\n",
        "attended = int(input('Number of classes attended : '))\n",
        "\n",
        "attended_ratio = (attended/classes)*100\n",
        "\n",
        "if attended_ratio >= 75:\n",
        "    print('You are allowed')\n",
        "else:\n",
        "    print('You are not allowed')"
      ],
      "metadata": {
        "colab": {
          "base_uri": "https://localhost:8080/"
        },
        "id": "WL39zVKhQ62d",
        "outputId": "bfa54a1d-c302-4d85-c5b2-79c6467ae99d"
      },
      "execution_count": 13,
      "outputs": [
        {
          "output_type": "stream",
          "name": "stdout",
          "text": [
            "Number of classes held : 10\n",
            "Number of classes attended : 5\n",
            "You are not allowed\n"
          ]
        }
      ]
    },
    {
      "cell_type": "code",
      "source": [
        "'''\n",
        "#4 : A school has following rules for grading system:-\n",
        "Below 25 – F, 25 to 44 – E, 45 to 49 – D, 50 to 59 – C, 60 to 79 – B, 80 to 89 - A, Above 90 - A+\n",
        "\n",
        "QUESTION:- Now, Ask user to enter marks and print the corresponding grade.\n",
        "\n",
        "'''\n",
        "marks = float(input('Enter your marks : '))\n",
        "\n",
        "if marks < 25:\n",
        "    print('You failed')\n",
        "\n",
        "elif marks>=25 and marks<=44:\n",
        "    print('E Grade, passed')\n",
        "\n",
        "elif marks>=45 and marks<=49:\n",
        "    print('D Grade')\n",
        "    \n",
        "elif marks>=50 and marks<=59:\n",
        "    print('C Grade')\n",
        "    \n",
        "elif marks>=60 and marks<=79:\n",
        "    print('B Grade')\n",
        "    \n",
        "elif marks>=80 and marks<=89:\n",
        "    print('A Grade')\n",
        "    \n",
        "else:\n",
        "    print('You are a topper')"
      ],
      "metadata": {
        "colab": {
          "base_uri": "https://localhost:8080/"
        },
        "id": "WbWSSPnHSEgb",
        "outputId": "100cd35c-041c-418a-9056-6e42e35be1f9"
      },
      "execution_count": 17,
      "outputs": [
        {
          "output_type": "stream",
          "name": "stdout",
          "text": [
            "Enter your marks : 100\n",
            "You are a topper\n"
          ]
        }
      ]
    }
  ]
}