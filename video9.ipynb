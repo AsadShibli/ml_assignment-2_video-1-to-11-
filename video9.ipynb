{
  "nbformat": 4,
  "nbformat_minor": 0,
  "metadata": {
    "colab": {
      "provenance": [],
      "authorship_tag": "ABX9TyNp/+LjQKvUASIGAGrWiGwS",
      "include_colab_link": true
    },
    "kernelspec": {
      "name": "python3",
      "display_name": "Python 3"
    },
    "language_info": {
      "name": "python"
    }
  },
  "cells": [
    {
      "cell_type": "markdown",
      "metadata": {
        "id": "view-in-github",
        "colab_type": "text"
      },
      "source": [
        "<a href=\"https://colab.research.google.com/github/AsadShibli/ml_assignment-2_video-1-to-11-/blob/main/video9.ipynb\" target=\"_parent\"><img src=\"https://colab.research.google.com/assets/colab-badge.svg\" alt=\"Open In Colab\"/></a>"
      ]
    },
    {
      "cell_type": "markdown",
      "source": [
        "Exercise"
      ],
      "metadata": {
        "id": "laMjmhl4T1jU"
      }
    },
    {
      "cell_type": "code",
      "execution_count": 2,
      "metadata": {
        "colab": {
          "base_uri": "https://localhost:8080/"
        },
        "id": "UbKY78_ZTQga",
        "outputId": "5dbd349a-4909-47c2-ac36-e1876b45f517"
      },
      "outputs": [
        {
          "output_type": "stream",
          "name": "stdout",
          "text": [
            "-100\n",
            "-99\n",
            "-98\n",
            "-97\n",
            "-96\n",
            "-95\n",
            "-94\n",
            "-93\n",
            "-92\n",
            "-91\n",
            "-90\n",
            "-89\n",
            "-88\n",
            "-87\n",
            "-86\n",
            "-85\n",
            "-84\n",
            "-83\n",
            "-82\n",
            "-81\n",
            "-80\n",
            "-79\n",
            "-78\n",
            "-77\n",
            "-76\n",
            "-75\n",
            "-74\n",
            "-73\n",
            "-72\n",
            "-71\n",
            "-70\n",
            "-69\n",
            "-68\n",
            "-67\n",
            "-66\n",
            "-65\n",
            "-64\n",
            "-63\n",
            "-62\n",
            "-61\n",
            "-60\n",
            "-59\n",
            "-58\n",
            "-57\n",
            "-56\n",
            "-55\n",
            "-54\n",
            "-53\n",
            "-52\n",
            "-51\n",
            "-50\n",
            "-49\n",
            "-48\n",
            "-47\n",
            "-46\n",
            "-45\n",
            "-44\n",
            "-43\n",
            "-42\n",
            "-41\n",
            "-40\n",
            "-39\n",
            "-38\n",
            "-37\n",
            "-36\n",
            "-35\n",
            "-34\n",
            "-33\n",
            "-32\n",
            "-31\n",
            "-30\n",
            "-29\n",
            "-28\n",
            "-27\n",
            "-26\n",
            "-25\n",
            "-24\n",
            "-23\n",
            "-22\n",
            "-21\n",
            "-20\n",
            "-19\n",
            "-18\n",
            "-17\n",
            "-16\n",
            "-15\n",
            "-14\n",
            "-13\n",
            "-12\n",
            "-11\n",
            "-10\n"
          ]
        }
      ],
      "source": [
        "#1.Display numbers from -100 to -10 using for loop\n",
        "\n",
        "for i in range(-100,-9):\n",
        "    print(i)"
      ]
    },
    {
      "cell_type": "code",
      "source": [
        "#2.Write a program to sum all numbers within a range 10 to 1000\n",
        "\n",
        "sum = 0\n",
        "for i in range(10,1000):\n",
        " for j in range(2,i):\n",
        "  if(i/j)==0:\n",
        "   break\n",
        "  else:\n",
        "   sum = sum + i\n",
        "\n",
        "sum"
      ],
      "metadata": {
        "colab": {
          "base_uri": "https://localhost:8080/"
        },
        "id": "cC48kTIjUfnY",
        "outputId": "16fbbfd2-c114-4404-bdf1-68113ec7c231"
      },
      "execution_count": 4,
      "outputs": [
        {
          "output_type": "execute_result",
          "data": {
            "text/plain": [
              "331834305"
            ]
          },
          "metadata": {},
          "execution_count": 4
        }
      ]
    },
    {
      "cell_type": "code",
      "source": [
        "#3.Find the factorial of a n\n",
        "\n",
        "n = int(input('Enter a number'))\n",
        "\n",
        "fact_n = 1\n",
        "\n",
        "for i in range(n,0,-1):\n",
        " fact_n = i * fact_n \n",
        "\n",
        "fact_n"
      ],
      "metadata": {
        "colab": {
          "base_uri": "https://localhost:8080/"
        },
        "id": "UFH_1scXVcng",
        "outputId": "ddfa55d2-20d2-4081-c6a9-9482e5c8f402"
      },
      "execution_count": 10,
      "outputs": [
        {
          "name": "stdout",
          "output_type": "stream",
          "text": [
            "Enter a number10\n"
          ]
        },
        {
          "output_type": "execute_result",
          "data": {
            "text/plain": [
              "3628800"
            ]
          },
          "metadata": {},
          "execution_count": 10
        }
      ]
    },
    {
      "cell_type": "code",
      "source": [
        "#4. reverse a given integer number 27956240710\n",
        "\n",
        "num = 27956240710\n",
        "reversed_num = 0\n",
        "\n",
        "while num != 0:\n",
        "    digit = num % 10\n",
        "    reversed_num = reversed_num * 10 + digit\n",
        "    \n",
        "    num //= 10\n",
        "\n",
        "str_reversed_num = str(reversed_num)\n",
        "print(\"Reversed Number: \" + str_reversed_num)"
      ],
      "metadata": {
        "colab": {
          "base_uri": "https://localhost:8080/"
        },
        "id": "5_AJl9sXWuBx",
        "outputId": "247bf2c0-d84b-4b53-e44a-9f0587db3061"
      },
      "execution_count": 12,
      "outputs": [
        {
          "output_type": "stream",
          "name": "stdout",
          "text": [
            "Reversed Number: 1704265972\n"
          ]
        }
      ]
    }
  ]
}